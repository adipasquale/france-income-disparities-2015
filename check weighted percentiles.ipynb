{
 "cells": [
  {
   "cell_type": "code",
   "execution_count": 54,
   "metadata": {},
   "outputs": [],
   "source": [
    "import pandas as pd\n",
    "import numpy as np"
   ]
  },
  {
   "cell_type": "code",
   "execution_count": 65,
   "metadata": {},
   "outputs": [
    {
     "data": {
      "text/plain": [
       "array([ 17.05715119, -61.3171255 ,  46.61055087, ...,  27.6605187 ,\n",
       "        29.83815425, -41.28542945])"
      ]
     },
     "execution_count": 65,
     "metadata": {},
     "output_type": "execute_result"
    }
   ],
   "source": [
    "arr = np.random.randn(100000) * 50\n",
    "arr"
   ]
  },
  {
   "cell_type": "code",
   "execution_count": 66,
   "metadata": {},
   "outputs": [
    {
     "name": "stdout",
     "output_type": "stream",
     "text": [
      "ref q1 is -64.44685728671065\n"
     ]
    }
   ],
   "source": [
    "ref_q1 = pd.DataFrame(arr, columns=[\"value\"]).quantile(0.1).value\n",
    "print(\"ref q1 is %s\" % ref_q1)"
   ]
  },
  {
   "cell_type": "code",
   "execution_count": 67,
   "metadata": {},
   "outputs": [
    {
     "name": "stdout",
     "output_type": "stream",
     "text": [
      "will take 798 rows from 100000\n",
      "will take 555 rows from 99202\n",
      "will take 609 rows from 98647\n",
      "will take 436 rows from 98038\n",
      "will take 930 rows from 97602\n",
      "will take 840 rows from 96672\n",
      "will take 649 rows from 95832\n",
      "will take 256 rows from 95183\n",
      "will take 657 rows from 94927\n",
      "will take 743 rows from 94270\n",
      "will take 978 rows from 93527\n",
      "will take 559 rows from 92549\n",
      "will take 204 rows from 91990\n",
      "will take 902 rows from 91786\n",
      "will take 937 rows from 90884\n",
      "will take 879 rows from 89947\n",
      "will take 339 rows from 89068\n",
      "will take 622 rows from 88729\n",
      "will take 811 rows from 88107\n",
      "will take 140 rows from 87296\n",
      "will take 101 rows from 87156\n",
      "will take 407 rows from 87055\n",
      "will take 435 rows from 86648\n",
      "will take 602 rows from 86213\n",
      "will take 507 rows from 85611\n",
      "will take 715 rows from 85104\n",
      "will take 285 rows from 84389\n",
      "will take 923 rows from 84104\n",
      "will take 868 rows from 83181\n",
      "will take 495 rows from 82313\n",
      "will take 288 rows from 81818\n",
      "will take 266 rows from 81530\n",
      "will take 281 rows from 81264\n",
      "will take 704 rows from 80983\n",
      "will take 824 rows from 80279\n",
      "will take 913 rows from 79455\n",
      "will take 420 rows from 78542\n",
      "will take 581 rows from 78122\n",
      "will take 726 rows from 77541\n",
      "will take 400 rows from 76815\n",
      "will take 995 rows from 76415\n",
      "will take 618 rows from 75420\n",
      "will take 483 rows from 74802\n",
      "will take 913 rows from 74319\n",
      "will take 515 rows from 73406\n",
      "will take 685 rows from 72891\n",
      "will take 280 rows from 72206\n",
      "will take 224 rows from 71926\n",
      "will take 836 rows from 71702\n",
      "will take 196 rows from 70866\n",
      "will take 706 rows from 70670\n",
      "will take 928 rows from 69964\n",
      "will take 440 rows from 69036\n",
      "will take 958 rows from 68596\n",
      "will take 314 rows from 67638\n",
      "will take 195 rows from 67324\n",
      "will take 134 rows from 67129\n",
      "will take 140 rows from 66995\n",
      "will take 328 rows from 66855\n",
      "will take 272 rows from 66527\n",
      "will take 657 rows from 66255\n",
      "will take 836 rows from 65598\n",
      "will take 872 rows from 64762\n",
      "will take 425 rows from 63890\n",
      "will take 114 rows from 63465\n",
      "will take 272 rows from 63351\n",
      "will take 617 rows from 63079\n",
      "will take 939 rows from 62462\n",
      "will take 281 rows from 61523\n",
      "will take 215 rows from 61242\n",
      "will take 392 rows from 61027\n",
      "will take 805 rows from 60635\n",
      "will take 708 rows from 59830\n",
      "will take 387 rows from 59122\n",
      "will take 265 rows from 58735\n",
      "will take 709 rows from 58470\n",
      "will take 477 rows from 57761\n",
      "will take 149 rows from 57284\n",
      "will take 286 rows from 57135\n",
      "will take 896 rows from 56849\n",
      "will take 230 rows from 55953\n",
      "will take 101 rows from 55723\n",
      "will take 122 rows from 55622\n",
      "will take 684 rows from 55500\n",
      "will take 279 rows from 54816\n",
      "will take 296 rows from 54537\n",
      "will take 943 rows from 54241\n",
      "will take 520 rows from 53298\n",
      "will take 710 rows from 52778\n",
      "will take 530 rows from 52068\n",
      "will take 315 rows from 51538\n",
      "will take 450 rows from 51223\n",
      "will take 893 rows from 50773\n",
      "will take 248 rows from 49880\n",
      "will take 579 rows from 49632\n",
      "will take 187 rows from 49053\n",
      "will take 898 rows from 48866\n",
      "will take 774 rows from 47968\n",
      "will take 872 rows from 47194\n",
      "will take 861 rows from 46322\n",
      "will take 596 rows from 45461\n",
      "will take 506 rows from 44865\n",
      "will take 828 rows from 44359\n",
      "will take 790 rows from 43531\n",
      "will take 948 rows from 42741\n",
      "will take 899 rows from 41793\n",
      "will take 177 rows from 40894\n",
      "will take 519 rows from 40717\n",
      "will take 440 rows from 40198\n",
      "will take 286 rows from 39758\n",
      "will take 535 rows from 39472\n",
      "will take 708 rows from 38937\n",
      "will take 519 rows from 38229\n",
      "will take 216 rows from 37710\n",
      "will take 759 rows from 37494\n",
      "will take 807 rows from 36735\n",
      "will take 117 rows from 35928\n",
      "will take 484 rows from 35811\n",
      "will take 484 rows from 35327\n",
      "will take 744 rows from 34843\n",
      "will take 902 rows from 34099\n",
      "will take 843 rows from 33197\n",
      "will take 886 rows from 32354\n",
      "will take 488 rows from 31468\n",
      "will take 356 rows from 30980\n",
      "will take 102 rows from 30624\n",
      "will take 869 rows from 30522\n",
      "will take 391 rows from 29653\n",
      "will take 993 rows from 29262\n",
      "will take 888 rows from 28269\n",
      "will take 381 rows from 27381\n",
      "will take 759 rows from 27000\n",
      "will take 218 rows from 26241\n",
      "will take 622 rows from 26023\n",
      "will take 942 rows from 25401\n",
      "will take 759 rows from 24459\n",
      "will take 940 rows from 23700\n",
      "will take 441 rows from 22760\n",
      "will take 788 rows from 22319\n",
      "will take 368 rows from 21531\n",
      "will take 917 rows from 21163\n",
      "will take 336 rows from 20246\n",
      "will take 469 rows from 19910\n",
      "will take 983 rows from 19441\n",
      "will take 374 rows from 18458\n",
      "will take 538 rows from 18084\n",
      "will take 512 rows from 17546\n",
      "will take 520 rows from 17034\n",
      "will take 570 rows from 16514\n",
      "will take 250 rows from 15944\n",
      "will take 929 rows from 15694\n",
      "will take 303 rows from 14765\n",
      "will take 299 rows from 14462\n",
      "will take 356 rows from 14163\n",
      "will take 625 rows from 13807\n",
      "will take 746 rows from 13182\n",
      "will take 969 rows from 12436\n",
      "will take 657 rows from 11467\n",
      "will take 485 rows from 10810\n",
      "will take 222 rows from 10325\n",
      "will take 519 rows from 10103\n",
      "will take 866 rows from 9584\n",
      "will take 138 rows from 8718\n",
      "will take 100 rows from 8580\n",
      "will take 581 rows from 8480\n",
      "will take 863 rows from 7899\n",
      "will take 794 rows from 7036\n",
      "will take 632 rows from 6242\n",
      "will take 981 rows from 5610\n",
      "will take 877 rows from 4629\n",
      "will take 926 rows from 3752\n",
      "will take 510 rows from 2826\n",
      "will take 975 rows from 2316\n",
      "will take 577 rows from 1341\n",
      "will take 764 rows from 764\n"
     ]
    }
   ],
   "source": [
    "arr = np.random.permutation(arr)\n",
    "sub_groups = []\n",
    "while len(arr) > 0:\n",
    "    num_rows = len(arr) if len(arr) <= 1000 else np.random.randint(100, 1000)\n",
    "    print(\"will take %s rows from %s\" % (num_rows, len(arr)))\n",
    "    sub_group = arr[0:num_rows]\n",
    "    sub_groups.append(sub_group)\n",
    "    arr = arr[num_rows:]"
   ]
  },
  {
   "cell_type": "code",
   "execution_count": 68,
   "metadata": {},
   "outputs": [
    {
     "name": "stdout",
     "output_type": "stream",
     "text": [
      "df.population.sum() is 100000\n",
      "computed q1 is -64.18192971579693\n"
     ]
    }
   ],
   "source": [
    "computed = []\n",
    "for group in sub_groups:\n",
    "    df = pd.DataFrame(group, columns=[\"value\"])\n",
    "    computed.append([len(group), df.quantile(0.1).value, df.quantile(0.5).value])\n",
    "\n",
    "    \n",
    "df = pd.DataFrame(computed, columns=[\"population\", \"q1\", \"q5\"])\n",
    "q1 = (df.q1*df.population).sum() / df.population.sum()\n",
    "print(\"df.population.sum() is %s\" % df.population.sum())\n",
    "print(\"computed q1 is %s\" % q1)"
   ]
  },
  {
   "cell_type": "code",
   "execution_count": 69,
   "metadata": {},
   "outputs": [
    {
     "name": "stdout",
     "output_type": "stream",
     "text": [
      "b is [1, 2, 3] and c is [4, 5, 6, 7]\n"
     ]
    }
   ],
   "source": [
    "a = [1,2,3,4,5,6,7]\n",
    "b = a[0:3]\n",
    "c = a[3:]\n",
    "print(\"b is %s and c is %s\" % (b,c))"
   ]
  },
  {
   "cell_type": "code",
   "execution_count": null,
   "metadata": {},
   "outputs": [],
   "source": []
  }
 ],
 "metadata": {
  "kernelspec": {
   "display_name": "Python 3",
   "language": "python",
   "name": "python3"
  },
  "language_info": {
   "codemirror_mode": {
    "name": "ipython",
    "version": 3
   },
   "file_extension": ".py",
   "mimetype": "text/x-python",
   "name": "python",
   "nbconvert_exporter": "python",
   "pygments_lexer": "ipython3",
   "version": "3.7.1"
  }
 },
 "nbformat": 4,
 "nbformat_minor": 2
}
